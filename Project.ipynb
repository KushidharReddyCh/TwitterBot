{
 "cells": [
  {
   "cell_type": "markdown",
   "id": "cbdf511a",
   "metadata": {},
   "source": [
    "\n",
    "# Project Details :\n",
    "<hr>\n",
    "\n",
    "- A twitter automator bot,which will fetch the top trending tags in the specified geo location and extract the top 5 tweets from each tag using twitter API.\n",
    "\n",
    "- And then it will analyse the exteacted tweets using NLP and machine learning and classify them as +ve and -ve tweets.\n",
    "\n",
    "- And then using selenium it will post the target message in the \n",
    "extracted positive tweets\n",
    "\n",
    "<hr>"
   ]
  },
  {
   "cell_type": "markdown",
   "id": "d1a6fc9c",
   "metadata": {},
   "source": [
    "# Plan of Action:\n",
    "\n",
    "<hr>\n",
    "\n",
    "- Step 1 : Import all the required Libraries\n",
    "- Step 2 : Make cities and geo codes avaliable and implement EditDistance Function\n",
    "- Step 3 : Take user input [user_name,password,city,number_of_tweets]\n",
    "- Step 4 : Use tweepy to extract the top trending tags and top tweets from each tag\n",
    "- Step 5 : Do sentiment analysis on the extracted tweets and classify them as positive and negative\n",
    "- Step 6 : Use selenium to post the target message in the trending tags of positive sentiment\n",
    "\n",
    "<hr>"
   ]
  },
  {
   "cell_type": "markdown",
   "id": "865e3b19",
   "metadata": {},
   "source": [
    "# Step 1"
   ]
  },
  {
   "cell_type": "code",
   "execution_count": 9,
   "id": "6733765d",
   "metadata": {},
   "outputs": [
    {
     "name": "stdout",
     "output_type": "stream",
     "text": [
      "$$ Importing Libraries $$\n",
      "$$ Libraries Imported Succesfully $$\n"
     ]
    },
    {
     "name": "stderr",
     "output_type": "stream",
     "text": [
      "[nltk_data] Downloading package stopwords to\n",
      "[nltk_data]     /Users/kushidhar/nltk_data...\n",
      "[nltk_data]   Package stopwords is already up-to-date!\n"
     ]
    }
   ],
   "source": [
    "print(\"$$ Importing Libraries $$\")\n",
    " \n",
    "# general\n",
    "import pandas as pd\n",
    "import numpy as np\n",
    "import re\n",
    "import joblib\n",
    "import pickle\n",
    "import json\n",
    "import getpass\n",
    "import sys\n",
    "import tweepy\n",
    "import webbrowser\n",
    "import time\n",
    "\n",
    "# nltk\n",
    "import nltk\n",
    "from nltk.corpus import stopwords\n",
    "from  nltk.stem import SnowballStemmer\n",
    "nltk.download('stopwords')\n",
    "\n",
    "# selenium\n",
    "from selenium import webdriver\n",
    "from webdriver_manager.chrome import ChromeDriverManager\n",
    "from selenium.webdriver.support.ui import WebDriverWait\n",
    "from selenium.webdriver.support import expected_conditions as EC\n",
    "from selenium.webdriver.common.by import By\n",
    "\n",
    "# ignore warnings\n",
    "import warnings\n",
    "warnings.filterwarnings('ignore')\n",
    "\n",
    "print(\"$$ Libraries Imported Succesfully $$\")"
   ]
  },
  {
   "cell_type": "markdown",
   "id": "6e816249",
   "metadata": {},
   "source": [
    "# Step 2\n",
    "- Load the cities\n",
    "- Parse It\n",
    "- Store them in Dict\n",
    "- Implement the EditDistance Function (function to search the closest city if the use made a grammatical mistake)"
   ]
  },
  {
   "cell_type": "code",
   "execution_count": 16,
   "id": "43139852",
   "metadata": {},
   "outputs": [
    {
     "name": "stdout",
     "output_type": "stream",
     "text": [
      "$$ Processing step 2 $$\n"
     ]
    }
   ],
   "source": [
    "print(\"$$ Processing step 2 $$\")"
   ]
  },
  {
   "cell_type": "code",
   "execution_count": 11,
   "id": "d6028fb3",
   "metadata": {},
   "outputs": [],
   "source": [
    "cities = open('woeid.txt', 'r').read()\n",
    "json_data = json.loads(cities)"
   ]
  },
  {
   "cell_type": "code",
   "execution_count": 12,
   "id": "e32f20ec",
   "metadata": {},
   "outputs": [],
   "source": [
    "cities_dict = {}\n",
    "for i in range(1,len(json_data)):\n",
    "    key = json_data[i]['name'].lower()\n",
    "    value = json_data[i]['woeid']\n",
    "    cities_dict[key] = value"
   ]
  },
  {
   "cell_type": "code",
   "execution_count": 13,
   "id": "7b1a1638",
   "metadata": {},
   "outputs": [],
   "source": [
    "def editDistanceDP(s1,s2,m,n,dp):\n",
    "    if m==0:\n",
    "        return n\n",
    "    if n==0:\n",
    "        return m\n",
    "    if dp[m][n] != -1:\n",
    "        return dp[m][n]\n",
    "    else:\n",
    "        if s1[m-1] == s2[n-1]:\n",
    "            dp[m][n] = editDistanceDP(s1,s2,m-1,n-1,dp)\n",
    "        else:\n",
    "            dp[m][n] =1+min(\n",
    "                editDistanceDP(s1,s2,m-1,n,dp),\n",
    "                editDistanceDP(s1,s2,m-1,n-1,dp),\n",
    "                editDistanceDP(s1,s2,m,n-1,dp))\n",
    "    return dp[m][n]"
   ]
  },
  {
   "cell_type": "code",
   "execution_count": 14,
   "id": "68b33f2c",
   "metadata": {},
   "outputs": [],
   "source": [
    "def find_closest(s1):\n",
    "    curr = float('inf')\n",
    "    res = \"\"\n",
    "    for key in cities_dict:\n",
    "        s2 = key\n",
    "        dp = [[-1 for _ in range(len(s2)+1)] for _ in range(len(s1)+1)]\n",
    "        dist = editDistanceDP(s1,s2,len(s1),len(s2),dp)\n",
    "        if dist < curr:\n",
    "            res = s2\n",
    "            curr = dist\n",
    "    return res"
   ]
  },
  {
   "cell_type": "code",
   "execution_count": 17,
   "id": "02257416",
   "metadata": {},
   "outputs": [
    {
     "name": "stdout",
     "output_type": "stream",
     "text": [
      "$$ Step 2 Succesful $$\n"
     ]
    }
   ],
   "source": [
    "print(\"$$ Step 2 Succesful $$\")"
   ]
  },
  {
   "cell_type": "markdown",
   "id": "6f4aac74",
   "metadata": {},
   "source": [
    "# Step 3 :\n",
    "- Take user input [uname,password,city,number_of_tweets]\n",
    "- Validate it and try other alternatives \n",
    "- take the target place and get the geo code"
   ]
  },
  {
   "cell_type": "code",
   "execution_count": 23,
   "id": "d5324db7",
   "metadata": {},
   "outputs": [
    {
     "name": "stdout",
     "output_type": "stream",
     "text": [
      "$$ STEP-3 : TAKING INPUT $$\n"
     ]
    }
   ],
   "source": [
    "print(\"$$ STEP-3 : TAKING INPUT $$\")"
   ]
  },
  {
   "cell_type": "code",
   "execution_count": 20,
   "id": "3c19105b",
   "metadata": {},
   "outputs": [],
   "source": [
    "def user_credientials():\n",
    "    message = input(\"Please Enter your target add content\")\n",
    "    user_id = input(\"## Please Enter your Twitter ID: \")\n",
    "    password = getpass.getpass('## Please Enter your Password: ')\n",
    "    \n",
    "    return message,user_id,password"
   ]
  },
  {
   "cell_type": "code",
   "execution_count": 21,
   "id": "5a3a4964",
   "metadata": {},
   "outputs": [],
   "source": [
    "def location_and_tweets():\n",
    "    \n",
    "    target_location = input('## Please Enter your target location: ')\n",
    "    limit = (int)(input(\"## Please enter the number of tweets: \"))\n",
    "    \n",
    "    # validating the target_location\n",
    "    target_location = target_location.lower()\n",
    "    new_location = find_closest(target_location)\n",
    "    \n",
    "    print(\"The closest place (meaured by Levenshtein distance) we found in the data base is\",new_location.upper())\n",
    "    print(\"Enter \\n1: To continue \\n2: To enter other city \\n3: Quit\")\n",
    "    num = (int)(input())\n",
    "    \n",
    "    return new_location,num,limit"
   ]
  },
  {
   "cell_type": "code",
   "execution_count": 22,
   "id": "b6e03ca0",
   "metadata": {},
   "outputs": [
    {
     "name": "stdout",
     "output_type": "stream",
     "text": [
      "Please Enter your target add contentcool\n",
      "## Please Enter your Twitter ID: cool\n",
      "## Please Enter your Password: ········\n",
      "## Please Enter your target location: cool\n",
      "Please enter the number of tweets: 1\n",
      "The closest place (meaured by Levenshtein distance) we found in the data base is CORK\n",
      "Enter \n",
      "1: To continue \n",
      "2: To enter other city \n",
      "3: Quit\n",
      "1\n"
     ]
    }
   ],
   "source": [
    "message,user_name_,password_ =  user_credientials()\n",
    "\n",
    "target_location,limit = \"\",3\n",
    "\n",
    "num = 2\n",
    "while num ==2:\n",
    "    target_location,num,limit = location_and_tweets()\n",
    "    if num == 1:\n",
    "        break\n",
    "    elif num ==3:\n",
    "        sys.exit()"
   ]
  },
  {
   "cell_type": "code",
   "execution_count": 24,
   "id": "ade12c84",
   "metadata": {},
   "outputs": [
    {
     "name": "stdout",
     "output_type": "stream",
     "text": [
      "$$ STEP-3 succesful\n"
     ]
    }
   ],
   "source": [
    "print(\"$$ STEP-3 succesful\")"
   ]
  },
  {
   "cell_type": "markdown",
   "id": "5ff4ebe4",
   "metadata": {},
   "source": [
    "# Step 4"
   ]
  },
  {
   "cell_type": "code",
   "execution_count": 25,
   "id": "b2e68bb1",
   "metadata": {},
   "outputs": [],
   "source": [
    "API_Key = \"2sQOCo2o9OOuySTgGtduO3DXD\"\n",
    "API_Key_Secret = \"OX5RGmcBR1nFkYd7QM6hnIEGWeFQLudAHkhSGIPMDIBqAJWJ7Q\"\n",
    "Access_Token =\"1471890391213305857-EyR0m2xkkRxe3PQUo3LR3QTHEcLKhe\"\n",
    "Access_Token_Secret = \"U13XATUnd0Ebtn3X2paVqHHjQxKBArZq47tFFlMVTJYyJ\""
   ]
  },
  {
   "cell_type": "code",
   "execution_count": 26,
   "id": "a8109738",
   "metadata": {},
   "outputs": [],
   "source": [
    "auth = tweepy.OAuthHandler(consumer_key = API_Key,consumer_secret=API_Key_Secret)\n",
    "auth.set_access_token(Access_Token,Access_Token_Secret)"
   ]
  },
  {
   "cell_type": "code",
   "execution_count": 27,
   "id": "6198c986",
   "metadata": {},
   "outputs": [],
   "source": [
    "api = tweepy.API(auth)"
   ]
  },
  {
   "cell_type": "code",
   "execution_count": 28,
   "id": "c76df102",
   "metadata": {},
   "outputs": [],
   "source": [
    "target_woied = cities_dict[target_location]\n",
    "trend_result = api.get_place_trends(target_woied)"
   ]
  },
  {
   "cell_type": "code",
   "execution_count": 29,
   "id": "15be3764",
   "metadata": {},
   "outputs": [],
   "source": [
    "target_tags = []\n",
    "for trend in trend_result[0][\"trends\"][:-1]:\n",
    "    target_tags.append(trend[\"name\"])"
   ]
  },
  {
   "cell_type": "code",
   "execution_count": 30,
   "id": "52a05ad5",
   "metadata": {},
   "outputs": [],
   "source": [
    "# process those target_tags\n",
    "pre_processed_tags = []\n",
    "for tag in target_tags:\n",
    "    if tag[0] == '#':\n",
    "        pre_processed_tags.append(tag)\n",
    "    else:\n",
    "        pre_processed_tags.append(\"#\"+str(tag))"
   ]
  },
  {
   "cell_type": "code",
   "execution_count": 31,
   "id": "55d1effe",
   "metadata": {},
   "outputs": [
    {
     "name": "stdout",
     "output_type": "stream",
     "text": [
      "STEP 4 SUCCESFUL\n"
     ]
    }
   ],
   "source": [
    "print(\"STEP 4 SUCCESFUL\")"
   ]
  },
  {
   "cell_type": "code",
   "execution_count": 32,
   "id": "82d7c211",
   "metadata": {},
   "outputs": [],
   "source": [
    "# Step 5 : Sentiment Analysis"
   ]
  },
  {
   "cell_type": "code",
   "execution_count": 41,
   "id": "ac836d5c",
   "metadata": {},
   "outputs": [
    {
     "name": "stdout",
     "output_type": "stream",
     "text": [
      "$$ Step 5: Doing sentiment analysis on the extracted tweets $$\n",
      "$$ This may take some time depending on your internet connection,Please be paitient 😁😁 $$\n"
     ]
    }
   ],
   "source": [
    "print(\"$$ Step 5: Doing sentiment analysis on the extracted tweets $$\")\n",
    "print(\"$$ This may take some time depending on your internet connection,Please be paitient 😁😁 $$\")"
   ]
  },
  {
   "cell_type": "code",
   "execution_count": 33,
   "id": "d7b9249d",
   "metadata": {},
   "outputs": [],
   "source": [
    "# TEXT CLENAING\n",
    "TEXT_CLEANING_RE = \"@\\S+|https?:\\S+|http?:\\S|[^A-Za-z0-9]+\"\n",
    "stop_words = stopwords.words(\"english\")\n",
    "stemmer = SnowballStemmer(\"english\")\n",
    "sws = set(stopwords.words('english'))\n",
    "negative_stopwords = [\"against\",\"aren\", \"aren't\",\"couldn't\",\"didn't\",\"doesn\",\n",
    "    \"doesn't\",\"don\",\"don't\",\"hadn\",\"hadn't\",\"haven\",\"haven't\",\n",
    "    \"isn\",\"isn't\", \"mightn\",\"mightn't\",\"mustn\",\"mustn't\",\"needn\",\n",
    "    \"needn't\",\"no\",\"nor\",\"not\", \"shan\",\"shan't\", \"shouldn\",\"shouldn't\",\n",
    "    \"wasn\",\"wasn't\",\"weren\",\"weren't\",\"wouldn\",\"wouldn't\"]\n",
    "for word in negative_stopwords:\n",
    "    sws.remove(word)"
   ]
  },
  {
   "cell_type": "code",
   "execution_count": 34,
   "id": "6df86053",
   "metadata": {},
   "outputs": [],
   "source": [
    "def preprocess(text, stem=False):\n",
    "    # Remove link,user and special characters\n",
    "    text = re.sub(TEXT_CLEANING_RE, ' ', str(text).lower()).strip()\n",
    "    tokens = []\n",
    "    for token in text.split():\n",
    "        if token not in sws:\n",
    "            if stem:\n",
    "                tokens.append(stemmer.stem(token))\n",
    "            else:\n",
    "                tokens.append(token)\n",
    "    return \" \".join(tokens)"
   ]
  },
  {
   "cell_type": "code",
   "execution_count": 35,
   "id": "538e694a",
   "metadata": {},
   "outputs": [],
   "source": [
    "cv = pickle.load(open(\"vector.pickel\", \"rb\"))\n",
    "mb = joblib.load('model.pkl')"
   ]
  },
  {
   "cell_type": "code",
   "execution_count": 43,
   "id": "e8d79ae3",
   "metadata": {},
   "outputs": [
    {
     "name": "stdout",
     "output_type": "stream",
     "text": [
      "Step 5 finished 25.0%\n",
      "Step 5 finished 50.0%\n",
      "Step 5 finished 75.0%\n",
      "Step 5 finished 100.0%\n"
     ]
    }
   ],
   "source": [
    "positive_tags = []\n",
    "negative_tags = []\n",
    "cnt = 1\n",
    "for tag in pre_processed_tags[:20]:\n",
    "    if cnt%5 == 0:\n",
    "        per = (cnt/20)*100\n",
    "        print(\"Step 5 finished \"+str(per)+\"%\")\n",
    "    cnt = cnt+1\n",
    "    try:\n",
    "        search_term = tag\n",
    "        search_tweets = api.search_tweets(q = search_term, lang = \"en\", count = 5)\n",
    "        text = []\n",
    "        for tweet in search_tweets:\n",
    "            text.append(tweet.text)\n",
    "        preprocessed_text = []\n",
    "        for line in text[:5]:\n",
    "            preprocessed_text.append(preprocess(line))\n",
    "        text_vec = cv.transform(preprocessed_text).toarray()\n",
    "        arr = (mb.predict(text_vec))\n",
    "        if sum(arr) > len(arr)/2:\n",
    "            positive_tags.append(tag)\n",
    "        else:\n",
    "            negative_tags.append(tag)\n",
    "    except:\n",
    "        pass"
   ]
  },
  {
   "cell_type": "code",
   "execution_count": 38,
   "id": "c94863c0",
   "metadata": {},
   "outputs": [
    {
     "name": "stdout",
     "output_type": "stream",
     "text": [
      "$$ Step 5 succesful $$\n"
     ]
    }
   ],
   "source": [
    "print(\"$$ Step 5 Succesful $$\")"
   ]
  },
  {
   "cell_type": "markdown",
   "id": "7f3fb65b",
   "metadata": {},
   "source": [
    "# Step 6 : Automate the tweets"
   ]
  },
  {
   "cell_type": "code",
   "execution_count": 49,
   "id": "c677a863",
   "metadata": {},
   "outputs": [
    {
     "name": "stderr",
     "output_type": "stream",
     "text": [
      "\n",
      "\n",
      "INFO:WDM:\n",
      "\n",
      "====== WebDriver manager ======\n",
      "INFO:WDM:====== WebDriver manager ======\n",
      "Current google-chrome version is 96.0.4664\n",
      "INFO:WDM:Current google-chrome version is 96.0.4664\n",
      "Get LATEST chromedriver version for 96.0.4664 google-chrome\n",
      "INFO:WDM:Get LATEST chromedriver version for 96.0.4664 google-chrome\n",
      "Driver [/Users/kushidhar/.wdm/drivers/chromedriver/mac64/96.0.4664.45/chromedriver] found in cache\n",
      "INFO:WDM:Driver [/Users/kushidhar/.wdm/drivers/chromedriver/mac64/96.0.4664.45/chromedriver] found in cache\n"
     ]
    }
   ],
   "source": [
    "# initiate a webdriver session\n",
    "driver = webdriver.Chrome(ChromeDriverManager().install())"
   ]
  },
  {
   "cell_type": "code",
   "execution_count": 50,
   "id": "bf307585",
   "metadata": {},
   "outputs": [],
   "source": [
    "wait = WebDriverWait(driver,20)"
   ]
  },
  {
   "cell_type": "code",
   "execution_count": 57,
   "id": "79c8719e",
   "metadata": {},
   "outputs": [],
   "source": [
    "# User credientials\n",
    "USERNAME = user_name_\n",
    "PASSWORD = password_"
   ]
  },
  {
   "cell_type": "code",
   "execution_count": 52,
   "id": "62efbe8e",
   "metadata": {},
   "outputs": [],
   "source": [
    "try:\n",
    "    driver.maximize_window()\n",
    "    driver.get('https://twitter.com/i/flow/login')\n",
    "\n",
    "    wait.until(EC.presence_of_element_located((By.TAG_NAME,'input')))\n",
    "    text_btn = wait.until(EC.element_to_be_clickable((By.TAG_NAME,'input')))\n",
    "    text_btn.click()\n",
    "    u_name = wait.until(EC.element_to_be_clickable((By.TAG_NAME,'input')))\n",
    "    u_name.send_keys(USERNAME)\n",
    "    u_name.send_keys('\\n')\n",
    "\n",
    "    password = wait.until(EC.element_to_be_clickable((By.NAME,'password')))\n",
    "    password.clear()\n",
    "    password.send_keys(PASSWORD)\n",
    "    password.send_keys('\\n')\n",
    "except:\n",
    "    print(\"Wrong user details\")\n",
    "    sys.exit()"
   ]
  },
  {
   "cell_type": "code",
   "execution_count": 53,
   "id": "dce5b7b1",
   "metadata": {},
   "outputs": [],
   "source": [
    "# posting tweet\n",
    "def post_tweet(msg,tag):\n",
    "        \n",
    "    path1 ='/html/body/div[1]/div/div/div[2]/header/div/div/div/div[1]/div[3]/a/div'\n",
    "    tweet = wait.until(EC.element_to_be_clickable((By.XPATH,path1)))\n",
    "    tweet.click()\n",
    "    \n",
    "    path2 = '/html/body/div[1]/div/div/div[1]/div[2]/div/div/div/div/div/div[2]/div[2]/div/div/div/div[3]/div/div[1]/div/div/div/div/div[2]/div[1]/div/div/div/div/div/div/div/div/div/label/div[1]/div/div/div/div/div[2]/div/div/div/div'\n",
    "    message = wait.until(EC.element_to_be_clickable((By.XPATH,path2)))\n",
    "    message.send_keys(msg)\n",
    "    message.send_keys('\\n')\n",
    "    message.send_keys(str(tag)+\" \")\n",
    "    \n",
    "    path3 = '/html/body/div[1]/div/div/div[1]/div[2]/div/div/div/div/div/div[2]/div[2]/div/div/div/div[3]/div/div[1]/div/div/div/div/div[2]/div[3]/div/div/div[2]/div[4]/div/span/span'\n",
    "    submit = wait.until(EC.element_to_be_clickable((By.XPATH,path3)))\n",
    "    submit.click()"
   ]
  },
  {
   "cell_type": "code",
   "execution_count": 54,
   "id": "8067ebcc",
   "metadata": {},
   "outputs": [],
   "source": [
    "def tweeter(t,idx):\n",
    "    for i in range(idx,limit):\n",
    "        tag = positive_tags[i]\n",
    "        if len(target_msg) >=250:\n",
    "            break\n",
    "        post_tweet(target_msg,tag)\n",
    "        time.sleep(t)    \n",
    "        global temp\n",
    "        print(\"☄️ Number of tweets posted\",temp+1)\n",
    "        temp = i+1"
   ]
  },
  {
   "cell_type": "code",
   "execution_count": 55,
   "id": "24c35330",
   "metadata": {},
   "outputs": [
    {
     "name": "stdout",
     "output_type": "stream",
     "text": [
      "☄️ Number of tweets posted 1\n",
      "Misson Accomplished\n"
     ]
    }
   ],
   "source": [
    "# log_in()\n",
    "\n",
    "limit = min(limit,len(positive_tags))\n",
    "target_msg = message\n",
    "idx,temp = 0,0\n",
    "t = 0\n",
    "while t != 100 and idx < limit:\n",
    "    try:\n",
    "        tweeter(t,idx)\n",
    "        print(\"Misson Accomplished\")\n",
    "        break\n",
    "    except:\n",
    "        print(\"Seems internet connection is slow,please be patient 😃\")\n",
    "        idx = temp\n",
    "        t = t+1\n",
    "        t = min(t,4)"
   ]
  },
  {
   "cell_type": "code",
   "execution_count": null,
   "id": "984d2aff",
   "metadata": {},
   "outputs": [],
   "source": []
  }
 ],
 "metadata": {
  "kernelspec": {
   "display_name": "Python 3",
   "language": "python",
   "name": "python3"
  },
  "language_info": {
   "codemirror_mode": {
    "name": "ipython",
    "version": 3
   },
   "file_extension": ".py",
   "mimetype": "text/x-python",
   "name": "python",
   "nbconvert_exporter": "python",
   "pygments_lexer": "ipython3",
   "version": "3.8.8"
  }
 },
 "nbformat": 4,
 "nbformat_minor": 5
}
