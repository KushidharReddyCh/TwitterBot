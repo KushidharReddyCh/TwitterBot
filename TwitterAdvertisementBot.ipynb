{
 "cells": [
  {
   "cell_type": "markdown",
   "id": "a3be2add",
   "metadata": {},
   "source": [
    "# plan of action\n",
    "\n",
    "- make cities and geo codes avaliable \n",
    "- create edit distance\n",
    "\n",
    "- take user input [uname,password,city,number_of_tweets]\n",
    "- validate it and try other alternatives \n",
    "\n",
    "- take the target place and get the geo code\n",
    "- use tweepy and get the trending tweets\n",
    "- use selenium to post the tweets"
   ]
  },
  {
   "cell_type": "code",
   "execution_count": 77,
   "id": "9f5c4da4",
   "metadata": {},
   "outputs": [
    {
     "name": "stdout",
     "output_type": "stream",
     "text": [
      "Importing Libraries...\n"
     ]
    }
   ],
   "source": [
    "print(\"Importing Libraries...\")"
   ]
  },
  {
   "cell_type": "code",
   "execution_count": 78,
   "id": "ed83ca3b",
   "metadata": {},
   "outputs": [
    {
     "name": "stderr",
     "output_type": "stream",
     "text": [
      "[nltk_data] Downloading package stopwords to\n",
      "[nltk_data]     /Users/kushidhar/nltk_data...\n",
      "[nltk_data]   Package stopwords is already up-to-date!\n"
     ]
    }
   ],
   "source": [
    "# all the libraries\n",
    "import pandas as pd\n",
    "import json\n",
    "import getpass\n",
    "import sys\n",
    "import tweepy\n",
    "import webbrowser\n",
    "import time\n",
    "import warnings\n",
    "import time\n",
    "from selenium import webdriver\n",
    "# general\n",
    "import pandas as pd\n",
    "import numpy as np\n",
    "import re\n",
    "import joblib\n",
    "import pickle\n",
    "\n",
    "# nltk\n",
    "import nltk\n",
    "from nltk.corpus import stopwords\n",
    "from  nltk.stem import SnowballStemmer\n",
    "nltk.download('stopwords')\n",
    "from webdriver_manager.chrome import ChromeDriverManager\n",
    "from selenium.webdriver.support.ui import WebDriverWait\n",
    "from selenium.webdriver.support import expected_conditions as EC\n",
    "from selenium.webdriver.common.by import By\n",
    "warnings.filterwarnings('ignore')"
   ]
  },
  {
   "cell_type": "code",
   "execution_count": 79,
   "id": "b01f4131",
   "metadata": {},
   "outputs": [
    {
     "name": "stdout",
     "output_type": "stream",
     "text": [
      "Libraries Imported Succesfully\n"
     ]
    }
   ],
   "source": [
    "print(\"Libraries Imported Succesfully\")"
   ]
  },
  {
   "cell_type": "markdown",
   "id": "ddc3b52d",
   "metadata": {},
   "source": [
    "## Part1 : \n",
    "- load the cities\n",
    "- parse it \n",
    "- store them in dict\n",
    "- implement the edit_distance function (function to search the closest city if the user made a gramatical mistake)"
   ]
  },
  {
   "cell_type": "code",
   "execution_count": 80,
   "id": "49e95174",
   "metadata": {},
   "outputs": [
    {
     "name": "stdout",
     "output_type": "stream",
     "text": [
      "Loading woeid.txt file and IMPLEMENTING STEP-2\n"
     ]
    }
   ],
   "source": [
    "print(\"Loading woeid.txt file and IMPLEMENTING STEP-2\")"
   ]
  },
  {
   "cell_type": "code",
   "execution_count": 81,
   "id": "89102db7",
   "metadata": {},
   "outputs": [],
   "source": [
    "cities = open('woeid.txt', 'r').read()\n",
    "json_data = json.loads(cities)"
   ]
  },
  {
   "cell_type": "code",
   "execution_count": 82,
   "id": "e773c273",
   "metadata": {},
   "outputs": [],
   "source": [
    "cities_dict = {}\n",
    "for i in range(1,len(json_data)):\n",
    "    key = json_data[i]['name'].lower()\n",
    "    value = json_data[i]['woeid']\n",
    "    cities_dict[key] = value"
   ]
  },
  {
   "cell_type": "code",
   "execution_count": 83,
   "id": "78adfaa6",
   "metadata": {},
   "outputs": [],
   "source": [
    "def editDistanceDP(s1,s2,m,n,dp):\n",
    "    if m==0:\n",
    "        return n\n",
    "    if n==0:\n",
    "        return m\n",
    "    if dp[m][n] != -1:\n",
    "        return dp[m][n]\n",
    "    else:\n",
    "        if s1[m-1] == s2[n-1]:\n",
    "            dp[m][n] = editDistanceDP(s1,s2,m-1,n-1,dp)\n",
    "        else:\n",
    "            dp[m][n] =1+min(\n",
    "                editDistanceDP(s1,s2,m-1,n,dp),\n",
    "                editDistanceDP(s1,s2,m-1,n-1,dp),\n",
    "                editDistanceDP(s1,s2,m,n-1,dp))\n",
    "    return dp[m][n]"
   ]
  },
  {
   "cell_type": "code",
   "execution_count": 84,
   "id": "6e5f5849",
   "metadata": {},
   "outputs": [],
   "source": [
    "def find_closest(s1):\n",
    "    curr = float('inf')\n",
    "    res = \"\"\n",
    "    for key in cities_dict:\n",
    "        s2 = key\n",
    "        dp = [[-1 for _ in range(len(s2)+1)] for _ in range(len(s1)+1)]\n",
    "        dist = editDistanceDP(s1,s2,len(s1),len(s2),dp)\n",
    "        if dist < curr:\n",
    "            res = s2\n",
    "            curr = dist\n",
    "    return res"
   ]
  },
  {
   "cell_type": "code",
   "execution_count": 85,
   "id": "75ce6f16",
   "metadata": {},
   "outputs": [
    {
     "name": "stdout",
     "output_type": "stream",
     "text": [
      "STEP-2 SUCCESFUL\n"
     ]
    }
   ],
   "source": [
    "print(\"STEP-2 SUCCESFUL\")"
   ]
  },
  {
   "cell_type": "markdown",
   "id": "6dfc7a01",
   "metadata": {},
   "source": [
    "## Take input from user"
   ]
  },
  {
   "cell_type": "code",
   "execution_count": 86,
   "id": "bf5831fb",
   "metadata": {},
   "outputs": [
    {
     "name": "stdout",
     "output_type": "stream",
     "text": [
      "STEP-3 : TAKING INPUT\n"
     ]
    }
   ],
   "source": [
    "print(\"STEP-3 : TAKING INPUT\")"
   ]
  },
  {
   "cell_type": "code",
   "execution_count": 87,
   "id": "b65beed3",
   "metadata": {},
   "outputs": [],
   "source": [
    "def user_credientials():\n",
    "    message = input(\"Please Enter your target add content\")\n",
    "    user_id = input(\"## Please Enter your Twitter ID: \")\n",
    "    password = getpass.getpass('## Please Enter your Password: ')\n",
    "    \n",
    "    return message,user_id,password"
   ]
  },
  {
   "cell_type": "code",
   "execution_count": 88,
   "id": "047668a0",
   "metadata": {},
   "outputs": [],
   "source": [
    "def location_and_tweets():\n",
    "    \n",
    "    target_location = input('## Please Enter your target location: ')\n",
    "    limit = (int)(input(\"Please enter the number of tweets: \"))\n",
    "    \n",
    "    # validating the target_location\n",
    "    target_location = target_location.lower()\n",
    "    new_location = find_closest(target_location)\n",
    "    \n",
    "    print(\"The closest place (meaured by Levenshtein distance) we found in the data base is\",new_location.upper())\n",
    "    print(\"Enter \\n1: To continue \\n2: To enter other city \\n3: Quit\")\n",
    "    num = (int)(input())\n",
    "    \n",
    "    return new_location,num,limit"
   ]
  },
  {
   "cell_type": "code",
   "execution_count": 89,
   "id": "2ea7c1be",
   "metadata": {},
   "outputs": [
    {
     "name": "stdout",
     "output_type": "stream",
     "text": [
      "Please Enter your target add contentLorem Ipsum\n",
      "## Please Enter your Twitter ID: Kushidhar_3\n",
      "## Please Enter your Password: ········\n",
      "## Please Enter your target location: chennai\n",
      "Please enter the number of tweets: 10\n",
      "The closest place (meaured by Levenshtein distance) we found in the data base is CHENNAI\n",
      "Enter \n",
      "1: To continue \n",
      "2: To enter other city \n",
      "3: Quit\n",
      "1\n"
     ]
    }
   ],
   "source": [
    "message,user_name_,password_ =  user_credientials()\n",
    "\n",
    "target_location,limit = \"\",3\n",
    "\n",
    "num = 2\n",
    "while num ==2:\n",
    "    target_location,num,limit = location_and_tweets()\n",
    "    if num == 1:\n",
    "        break\n",
    "    elif num ==3:\n",
    "        sys.exit()"
   ]
  },
  {
   "cell_type": "markdown",
   "id": "5ba2b626",
   "metadata": {},
   "source": [
    "## Part 3 :use tweepy and get the trending tweets"
   ]
  },
  {
   "cell_type": "code",
   "execution_count": 90,
   "id": "bfcaed9c",
   "metadata": {},
   "outputs": [
    {
     "name": "stdout",
     "output_type": "stream",
     "text": [
      "STEP 3: GETTING THE TOP TRENDING TAGS\n"
     ]
    }
   ],
   "source": [
    "print(\"STEP 3: GETTING THE TOP TRENDING TAGS\")"
   ]
  },
  {
   "cell_type": "code",
   "execution_count": 91,
   "id": "d8a8c5f4",
   "metadata": {},
   "outputs": [],
   "source": [
    "API_Key = \"2sQOCo2o9OOuySTgGtduO3DXD\"\n",
    "API_Key_Secret = \"OX5RGmcBR1nFkYd7QM6hnIEGWeFQLudAHkhSGIPMDIBqAJWJ7Q\"\n",
    "Access_Token =\"1471890391213305857-EyR0m2xkkRxe3PQUo3LR3QTHEcLKhe\"\n",
    "Access_Token_Secret = \"U13XATUnd0Ebtn3X2paVqHHjQxKBArZq47tFFlMVTJYyJ\""
   ]
  },
  {
   "cell_type": "code",
   "execution_count": 92,
   "id": "47b306d5",
   "metadata": {},
   "outputs": [],
   "source": [
    "auth = tweepy.OAuthHandler(consumer_key = API_Key,consumer_secret=API_Key_Secret)\n",
    "auth.set_access_token(Access_Token,Access_Token_Secret)"
   ]
  },
  {
   "cell_type": "code",
   "execution_count": 93,
   "id": "5fb3dfe6",
   "metadata": {},
   "outputs": [],
   "source": [
    "api = tweepy.API(auth)"
   ]
  },
  {
   "cell_type": "code",
   "execution_count": 94,
   "id": "72c34046",
   "metadata": {},
   "outputs": [],
   "source": [
    "target_woied = cities_dict[target_location]\n",
    "trend_result = api.get_place_trends(target_woied)"
   ]
  },
  {
   "cell_type": "code",
   "execution_count": 95,
   "id": "ade997a2",
   "metadata": {},
   "outputs": [],
   "source": [
    "target_tags = []\n",
    "for trend in trend_result[0][\"trends\"][:-1]:\n",
    "    target_tags.append(trend[\"name\"])"
   ]
  },
  {
   "cell_type": "code",
   "execution_count": 96,
   "id": "1a4f47af",
   "metadata": {},
   "outputs": [],
   "source": [
    "# process those target_tags\n",
    "pre_processed_tags = []\n",
    "for tag in target_tags:\n",
    "    if tag[0] == '#':\n",
    "        pre_processed_tags.append(tag)\n",
    "    else:\n",
    "        pre_processed_tags.append(\"#\"+str(tag))"
   ]
  },
  {
   "cell_type": "code",
   "execution_count": 97,
   "id": "32b8ad44",
   "metadata": {},
   "outputs": [
    {
     "name": "stdout",
     "output_type": "stream",
     "text": [
      "STEP 3 SUCCESFUL\n"
     ]
    }
   ],
   "source": [
    "print(\"STEP 3 SUCCESFUL\")"
   ]
  },
  {
   "cell_type": "code",
   "execution_count": 98,
   "id": "259f6122",
   "metadata": {},
   "outputs": [],
   "source": [
    "# sentiment analysis"
   ]
  },
  {
   "cell_type": "code",
   "execution_count": 99,
   "id": "0de0865b",
   "metadata": {},
   "outputs": [],
   "source": [
    "# TEXT CLENAING\n",
    "TEXT_CLEANING_RE = \"@\\S+|https?:\\S+|http?:\\S|[^A-Za-z0-9]+\"\n",
    "stop_words = stopwords.words(\"english\")\n",
    "stemmer = SnowballStemmer(\"english\")\n",
    "sws = set(stopwords.words('english'))\n",
    "negative_stopwords = [\"against\",\"aren\", \"aren't\",\"couldn't\",\"didn't\",\"doesn\",\n",
    "    \"doesn't\",\"don\",\"don't\",\"hadn\",\"hadn't\",\"haven\",\"haven't\",\n",
    "    \"isn\",\"isn't\", \"mightn\",\"mightn't\",\"mustn\",\"mustn't\",\"needn\",\n",
    "    \"needn't\",\"no\",\"nor\",\"not\", \"shan\",\"shan't\", \"shouldn\",\"shouldn't\",\n",
    "    \"wasn\",\"wasn't\",\"weren\",\"weren't\",\"wouldn\",\"wouldn't\"]\n",
    "for word in negative_stopwords:\n",
    "    sws.remove(word)"
   ]
  },
  {
   "cell_type": "code",
   "execution_count": 100,
   "id": "2363bedb",
   "metadata": {},
   "outputs": [],
   "source": [
    "def preprocess(text, stem=False):\n",
    "    # Remove link,user and special characters\n",
    "    text = re.sub(TEXT_CLEANING_RE, ' ', str(text).lower()).strip()\n",
    "    tokens = []\n",
    "    for token in text.split():\n",
    "        if token not in sws:\n",
    "            if stem:\n",
    "                tokens.append(stemmer.stem(token))\n",
    "            else:\n",
    "                tokens.append(token)\n",
    "    return \" \".join(tokens)"
   ]
  },
  {
   "cell_type": "code",
   "execution_count": 101,
   "id": "6832ef21",
   "metadata": {},
   "outputs": [],
   "source": [
    "cv = pickle.load(open(\"vector.pickel\", \"rb\"))\n",
    "mb = joblib.load('model.pkl')"
   ]
  },
  {
   "cell_type": "code",
   "execution_count": 1,
   "id": "69a8e1af",
   "metadata": {},
   "outputs": [],
   "source": [
    "# pre_processed_tags"
   ]
  },
  {
   "cell_type": "code",
   "execution_count": 121,
   "id": "01f4a7ba",
   "metadata": {},
   "outputs": [],
   "source": [
    "positive_tags = []\n",
    "negative_tags = []\n",
    "for tag in pre_processed_tags[:20]:\n",
    "    try:\n",
    "        search_term = tag\n",
    "        search_tweets = api.search_tweets(q = search_term, lang = \"en\", count = 5)\n",
    "        text = []\n",
    "        for tweet in search_tweets:\n",
    "            text.append(tweet.text)\n",
    "        preprocessed_text = []\n",
    "        for line in text[:5]:\n",
    "            preprocessed_text.append(preprocess(line))\n",
    "        text_vec = cv.transform(preprocessed_text).toarray()\n",
    "        arr = (mb.predict(text_vec))\n",
    "        if sum(arr) > len(arr)/2:\n",
    "            positive_tags.append(tag)\n",
    "        else:\n",
    "            negative_tags.append(tag)\n",
    "    except:\n",
    "        pass"
   ]
  },
  {
   "cell_type": "markdown",
   "id": "6b2c279a",
   "metadata": {},
   "source": [
    "## Part 4: Automate the tweets"
   ]
  },
  {
   "cell_type": "code",
   "execution_count": 103,
   "id": "346b00df",
   "metadata": {},
   "outputs": [
    {
     "name": "stderr",
     "output_type": "stream",
     "text": [
      "\n",
      "\n",
      "INFO:WDM:\n",
      "\n",
      "====== WebDriver manager ======\n",
      "INFO:WDM:====== WebDriver manager ======\n",
      "Current google-chrome version is 96.0.4664\n",
      "INFO:WDM:Current google-chrome version is 96.0.4664\n",
      "Get LATEST chromedriver version for 96.0.4664 google-chrome\n",
      "INFO:WDM:Get LATEST chromedriver version for 96.0.4664 google-chrome\n",
      "Driver [/Users/kushidhar/.wdm/drivers/chromedriver/mac64/96.0.4664.45/chromedriver] found in cache\n",
      "INFO:WDM:Driver [/Users/kushidhar/.wdm/drivers/chromedriver/mac64/96.0.4664.45/chromedriver] found in cache\n"
     ]
    }
   ],
   "source": [
    "# initiate a webdriver session\n",
    "driver = webdriver.Chrome(ChromeDriverManager().install())"
   ]
  },
  {
   "cell_type": "code",
   "execution_count": 104,
   "id": "24c9280d",
   "metadata": {},
   "outputs": [],
   "source": [
    "wait = WebDriverWait(driver,20)"
   ]
  },
  {
   "cell_type": "code",
   "execution_count": 105,
   "id": "0c941fdf",
   "metadata": {},
   "outputs": [],
   "source": [
    "# User credientials\n",
    "USERNAME = 'Kushidhar_3'\n",
    "PASSWORD = '982995kushi'"
   ]
  },
  {
   "cell_type": "code",
   "execution_count": 106,
   "id": "9e71f26e",
   "metadata": {},
   "outputs": [],
   "source": [
    "try:\n",
    "    driver.maximize_window()\n",
    "    driver.get('https://twitter.com/i/flow/login')\n",
    "\n",
    "    wait.until(EC.presence_of_element_located((By.TAG_NAME,'input')))\n",
    "    text_btn = wait.until(EC.element_to_be_clickable((By.TAG_NAME,'input')))\n",
    "    text_btn.click()\n",
    "    u_name = wait.until(EC.element_to_be_clickable((By.TAG_NAME,'input')))\n",
    "    u_name.send_keys(USERNAME)\n",
    "    u_name.send_keys('\\n')\n",
    "\n",
    "    password = wait.until(EC.element_to_be_clickable((By.NAME,'password')))\n",
    "    password.clear()\n",
    "    password.send_keys(PASSWORD)\n",
    "    password.send_keys('\\n')\n",
    "except:\n",
    "    print(\"Wrong user details\")\n",
    "    sys.exit()"
   ]
  },
  {
   "cell_type": "code",
   "execution_count": 107,
   "id": "9aa009a8",
   "metadata": {},
   "outputs": [],
   "source": [
    "# posting tweet\n",
    "def post_tweet(msg,tag):\n",
    "        \n",
    "    path1 ='/html/body/div[1]/div/div/div[2]/header/div/div/div/div[1]/div[3]/a/div'\n",
    "    tweet = wait.until(EC.element_to_be_clickable((By.XPATH,path1)))\n",
    "    tweet.click()\n",
    "    \n",
    "    path2 = '/html/body/div[1]/div/div/div[1]/div[2]/div/div/div/div/div/div[2]/div[2]/div/div/div/div[3]/div/div[1]/div/div/div/div/div[2]/div[1]/div/div/div/div/div/div/div/div/div/label/div[1]/div/div/div/div/div[2]/div/div/div/div'\n",
    "    message = wait.until(EC.element_to_be_clickable((By.XPATH,path2)))\n",
    "    message.send_keys(msg)\n",
    "    message.send_keys('\\n')\n",
    "    message.send_keys(str(tag)+\" \")\n",
    "    \n",
    "    path3 = '/html/body/div[1]/div/div/div[1]/div[2]/div/div/div/div/div/div[2]/div[2]/div/div/div/div[3]/div/div[1]/div/div/div/div/div[2]/div[3]/div/div/div[2]/div[4]/div/span/span'\n",
    "    submit = wait.until(EC.element_to_be_clickable((By.XPATH,path3)))\n",
    "    submit.click()"
   ]
  },
  {
   "cell_type": "code",
   "execution_count": 108,
   "id": "6b345f34",
   "metadata": {},
   "outputs": [],
   "source": [
    "def tweeter(t,idx):\n",
    "    for i in range(idx,limit):\n",
    "        tag = positive_tags[i]\n",
    "        if len(target_msg) >=250:\n",
    "            break\n",
    "        post_tweet(target_msg,tag)\n",
    "        time.sleep(t)    \n",
    "        global temp\n",
    "        print(\"☄️ Number of tweets posted\",temp+1)\n",
    "        temp = i+1"
   ]
  },
  {
   "cell_type": "code",
   "execution_count": 109,
   "id": "ce0c67ad",
   "metadata": {},
   "outputs": [
    {
     "name": "stdout",
     "output_type": "stream",
     "text": [
      "☄️ Number of tweets posted 1\n",
      "☄️ Number of tweets posted 2\n",
      "Seems internet connection is slow,please be patient 😃\n",
      "Seems internet connection is slow,please be patient 😃\n",
      "Seems internet connection is slow,please be patient 😃\n",
      "☄️ Number of tweets posted 3\n",
      "☄️ Number of tweets posted 4\n",
      "☄️ Number of tweets posted 5\n",
      "Misson Accomplished\n"
     ]
    }
   ],
   "source": [
    "# log_in()\n",
    "\n",
    "limit = min(limit,len(positive_tags))\n",
    "target_msg = message\n",
    "idx,temp = 0,0\n",
    "t = 0\n",
    "while t != 100 and idx < limit:\n",
    "    try:\n",
    "        tweeter(t,idx)\n",
    "        print(\"Misson Accomplished\")\n",
    "        break\n",
    "    except:\n",
    "        print(\"Seems internet connection is slow,please be patient 😃\")\n",
    "        idx = temp\n",
    "        t = t+1\n",
    "        t = min(t,4)"
   ]
  },
  {
   "cell_type": "code",
   "execution_count": 122,
   "id": "c242acf4",
   "metadata": {},
   "outputs": [
    {
     "data": {
      "text/plain": [
       "['#Ashes',\n",
       " '#Boycott_Atrangi_Re',\n",
       " '#GoBackModi',\n",
       " '#HapHapHappy',\n",
       " '#BAFikrHoKar',\n",
       " '#Shehnaaz You Go Girl',\n",
       " '#Lord Shardul',\n",
       " '#Siraj',\n",
       " '#Bumrah',\n",
       " '#Devastating BTS Fate',\n",
       " '#shivi supremacy',\n",
       " '#Love Jihad',\n",
       " '#Maybach']"
      ]
     },
     "execution_count": 122,
     "metadata": {},
     "output_type": "execute_result"
    }
   ],
   "source": [
    "positive_tags"
   ]
  },
  {
   "cell_type": "code",
   "execution_count": 123,
   "id": "a5e68dd0",
   "metadata": {},
   "outputs": [
    {
     "data": {
      "text/plain": [
       "['#Bavuma', '#Simpson', '#Justice For Sushant Now', '#Markram', '#Mask']"
      ]
     },
     "execution_count": 123,
     "metadata": {},
     "output_type": "execute_result"
    }
   ],
   "source": [
    "negative_tags"
   ]
  },
  {
   "cell_type": "code",
   "execution_count": null,
   "id": "19c93166",
   "metadata": {},
   "outputs": [],
   "source": []
  }
 ],
 "metadata": {
  "kernelspec": {
   "display_name": "Python 3",
   "language": "python",
   "name": "python3"
  },
  "language_info": {
   "codemirror_mode": {
    "name": "ipython",
    "version": 3
   },
   "file_extension": ".py",
   "mimetype": "text/x-python",
   "name": "python",
   "nbconvert_exporter": "python",
   "pygments_lexer": "ipython3",
   "version": "3.8.8"
  }
 },
 "nbformat": 4,
 "nbformat_minor": 5
}
