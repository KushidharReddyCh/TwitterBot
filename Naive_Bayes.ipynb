{
 "cells": [
  {
   "cell_type": "code",
   "execution_count": 27,
   "id": "95b305fd",
   "metadata": {},
   "outputs": [
    {
     "name": "stderr",
     "output_type": "stream",
     "text": [
      "[nltk_data] Downloading package stopwords to\n",
      "[nltk_data]     /Users/kushidhar/nltk_data...\n",
      "[nltk_data]   Package stopwords is already up-to-date!\n"
     ]
    },
    {
     "data": {
      "text/plain": [
       "True"
      ]
     },
     "execution_count": 27,
     "metadata": {},
     "output_type": "execute_result"
    }
   ],
   "source": [
    "# general\n",
    "import pandas as pd\n",
    "import numpy as np\n",
    "import re\n",
    "import joblib\n",
    "import pickle\n",
    "\n",
    "# Matplot\n",
    "import matplotlib.pyplot as plt\n",
    "%matplotlib inline\n",
    "\n",
    "\n",
    "# nltk\n",
    "import nltk\n",
    "from nltk.corpus import stopwords\n",
    "from  nltk.stem import SnowballStemmer\n",
    "\n",
    "# sklearn\n",
    "from sklearn.utils import shuffle\n",
    "from sklearn.feature_extraction.text import CountVectorizer\n",
    "from sklearn.naive_bayes import MultinomialNB,BernoulliNB, GaussianNB\n",
    "from sklearn.metrics import classification_report\n",
    "from sklearn.metrics import confusion_matrix\n",
    "from sklearn.metrics import accuracy_score\n",
    "\n",
    "nltk.download('stopwords')"
   ]
  },
  {
   "cell_type": "code",
   "execution_count": 12,
   "id": "832c3369",
   "metadata": {},
   "outputs": [
    {
     "data": {
      "text/html": [
       "<div>\n",
       "<style scoped>\n",
       "    .dataframe tbody tr th:only-of-type {\n",
       "        vertical-align: middle;\n",
       "    }\n",
       "\n",
       "    .dataframe tbody tr th {\n",
       "        vertical-align: top;\n",
       "    }\n",
       "\n",
       "    .dataframe thead th {\n",
       "        text-align: right;\n",
       "    }\n",
       "</style>\n",
       "<table border=\"1\" class=\"dataframe\">\n",
       "  <thead>\n",
       "    <tr style=\"text-align: right;\">\n",
       "      <th></th>\n",
       "      <th>label</th>\n",
       "      <th>ID</th>\n",
       "      <th>date</th>\n",
       "      <th>flag</th>\n",
       "      <th>user</th>\n",
       "      <th>text</th>\n",
       "    </tr>\n",
       "  </thead>\n",
       "  <tbody>\n",
       "    <tr>\n",
       "      <th>26174</th>\n",
       "      <td>0</td>\n",
       "      <td>1558639524</td>\n",
       "      <td>Sun Apr 19 08:58:50 PDT 2009</td>\n",
       "      <td>NO_QUERY</td>\n",
       "      <td>Gracebryant</td>\n",
       "      <td>Recovering after an 11 day Easter break in the...</td>\n",
       "    </tr>\n",
       "    <tr>\n",
       "      <th>589466</th>\n",
       "      <td>0</td>\n",
       "      <td>2217002338</td>\n",
       "      <td>Wed Jun 17 20:15:27 PDT 2009</td>\n",
       "      <td>NO_QUERY</td>\n",
       "      <td>Clarinetluva321</td>\n",
       "      <td>wahhh the north american house hippo isn't rea...</td>\n",
       "    </tr>\n",
       "    <tr>\n",
       "      <th>1526826</th>\n",
       "      <td>4</td>\n",
       "      <td>2177096755</td>\n",
       "      <td>Mon Jun 15 05:26:32 PDT 2009</td>\n",
       "      <td>NO_QUERY</td>\n",
       "      <td>king4ever90</td>\n",
       "      <td>Campeonato de BattleBall, saiba mais em: tkblo...</td>\n",
       "    </tr>\n",
       "    <tr>\n",
       "      <th>293096</th>\n",
       "      <td>0</td>\n",
       "      <td>1996212998</td>\n",
       "      <td>Mon Jun 01 14:42:51 PDT 2009</td>\n",
       "      <td>NO_QUERY</td>\n",
       "      <td>ashleystover</td>\n",
       "      <td>@Jolenedann i miss you too.  how have you been?</td>\n",
       "    </tr>\n",
       "    <tr>\n",
       "      <th>123989</th>\n",
       "      <td>0</td>\n",
       "      <td>1834021075</td>\n",
       "      <td>Mon May 18 01:19:29 PDT 2009</td>\n",
       "      <td>NO_QUERY</td>\n",
       "      <td>mlhannah</td>\n",
       "      <td>just got home. i am dead tired</td>\n",
       "    </tr>\n",
       "  </tbody>\n",
       "</table>\n",
       "</div>"
      ],
      "text/plain": [
       "         label          ID                          date      flag  \\\n",
       "26174        0  1558639524  Sun Apr 19 08:58:50 PDT 2009  NO_QUERY   \n",
       "589466       0  2217002338  Wed Jun 17 20:15:27 PDT 2009  NO_QUERY   \n",
       "1526826      4  2177096755  Mon Jun 15 05:26:32 PDT 2009  NO_QUERY   \n",
       "293096       0  1996212998  Mon Jun 01 14:42:51 PDT 2009  NO_QUERY   \n",
       "123989       0  1834021075  Mon May 18 01:19:29 PDT 2009  NO_QUERY   \n",
       "\n",
       "                    user                                               text  \n",
       "26174        Gracebryant  Recovering after an 11 day Easter break in the...  \n",
       "589466   Clarinetluva321  wahhh the north american house hippo isn't rea...  \n",
       "1526826      king4ever90  Campeonato de BattleBall, saiba mais em: tkblo...  \n",
       "293096      ashleystover    @Jolenedann i miss you too.  how have you been?  \n",
       "123989          mlhannah                    just got home. i am dead tired   "
      ]
     },
     "execution_count": 12,
     "metadata": {},
     "output_type": "execute_result"
    }
   ],
   "source": [
    "DATASET_COLUMNS = [\"label\", \"ID\", \"date\", \"flag\", \"user\", \"text\"]\n",
    "df = pd.read_csv('training.1600000.processed.noemoticon.csv',encoding =\"ISO-8859-1\",names=DATASET_COLUMNS)\n",
    "df = shuffle(df)\n",
    "df.head()"
   ]
  },
  {
   "cell_type": "code",
   "execution_count": 13,
   "id": "59f6a0ec",
   "metadata": {},
   "outputs": [
    {
     "name": "stdout",
     "output_type": "stream",
     "text": [
      "(array([0, 4]), array([19901, 20099]))\n"
     ]
    }
   ],
   "source": [
    "X = list(df[:40000][\"text\"].values)\n",
    "y = list(df[:40000][\"label\"].values)\n",
    "print(np.unique(y,return_counts=True))\n",
    "for i in range(len(y)):\n",
    "    if y[i] == 4:\n",
    "        y[i] = 1"
   ]
  },
  {
   "cell_type": "code",
   "execution_count": 14,
   "id": "b88982a5",
   "metadata": {},
   "outputs": [],
   "source": [
    "# TEXT CLENAING\n",
    "TEXT_CLEANING_RE = \"@\\S+|https?:\\S+|http?:\\S|[^A-Za-z0-9]+\"\n",
    "stop_words = stopwords.words(\"english\")\n",
    "stemmer = SnowballStemmer(\"english\")\n",
    "sws = set(stopwords.words('english'))\n",
    "negative_stopwords = [\"against\",\"aren\", \"aren't\",\"couldn't\",\"didn't\",\"doesn\",\n",
    "    \"doesn't\",\"don\",\"don't\",\"hadn\",\"hadn't\",\"haven\",\"haven't\",\n",
    "    \"isn\",\"isn't\", \"mightn\",\"mightn't\",\"mustn\",\"mustn't\",\"needn\",\n",
    "    \"needn't\",\"no\",\"nor\",\"not\", \"shan\",\"shan't\", \"shouldn\",\"shouldn't\",\n",
    "    \"wasn\",\"wasn't\",\"weren\",\"weren't\",\"wouldn\",\"wouldn't\"]\n",
    "for word in negative_stopwords:\n",
    "    sws.remove(word)"
   ]
  },
  {
   "cell_type": "code",
   "execution_count": 15,
   "id": "91e13bc1",
   "metadata": {},
   "outputs": [],
   "source": [
    "def preprocess(text, stem=False):\n",
    "    # Remove link,user and special characters\n",
    "    text = re.sub(TEXT_CLEANING_RE, ' ', str(text).lower()).strip()\n",
    "    tokens = []\n",
    "    for token in text.split():\n",
    "        if token not in sws:\n",
    "            if stem:\n",
    "                tokens.append(stemmer.stem(token))\n",
    "            else:\n",
    "                tokens.append(token)\n",
    "    return \" \".join(tokens)"
   ]
  },
  {
   "cell_type": "code",
   "execution_count": 16,
   "id": "4ca47878",
   "metadata": {},
   "outputs": [],
   "source": [
    "X_pre = []\n",
    "for line in X:\n",
    "    X_pre.append(preprocess(line))"
   ]
  },
  {
   "cell_type": "code",
   "execution_count": 17,
   "id": "ea720c2c",
   "metadata": {},
   "outputs": [],
   "source": [
    "cv = CountVectorizer()\n",
    "x_vec = cv.fit_transform(X_pre).toarray()"
   ]
  },
  {
   "cell_type": "code",
   "execution_count": 36,
   "id": "3498f0f2",
   "metadata": {},
   "outputs": [],
   "source": [
    "X_train = x_vec[:25000]\n",
    "y_train = y[:25000]\n",
    "\n",
    "X_test  = x_vec[25000:30000]\n",
    "y_test  = y[25000:30000]\n",
    "\n",
    "X_valid = x_vec[30000:35000]\n",
    "y_valid = y[30000:35000]"
   ]
  },
  {
   "cell_type": "code",
   "execution_count": 19,
   "id": "486ce873",
   "metadata": {},
   "outputs": [
    {
     "data": {
      "text/plain": [
       "MultinomialNB()"
      ]
     },
     "execution_count": 19,
     "metadata": {},
     "output_type": "execute_result"
    }
   ],
   "source": [
    "mb = MultinomialNB()\n",
    "mb.fit(X_train,y_train)"
   ]
  },
  {
   "cell_type": "code",
   "execution_count": 34,
   "id": "cfa51266",
   "metadata": {},
   "outputs": [],
   "source": [
    "# train accuracy : \n",
    "y_pred_train = mb.predict(X_train)\n",
    "y_pred = mb.predict(X_test)"
   ]
  },
  {
   "cell_type": "code",
   "execution_count": 33,
   "id": "bc7d6183",
   "metadata": {},
   "outputs": [
    {
     "name": "stdout",
     "output_type": "stream",
     "text": [
      "-----------------------------------------------------------------------\n",
      "Confusion matrix : \n",
      " [[1908  543]\n",
      " [ 786 1763]]\n",
      "-----------------------------------------------------------------------\n",
      "\u001b[1mTrain Accuracy : 87.08%\n",
      "Test Accuracy  : 73.42%\n",
      "-----------------------------------------------------------------------\n"
     ]
    }
   ],
   "source": [
    "print(\"-----------------------------------------------------------------------\")\n",
    "print(\"Confusion matrix : \\n\", confusion_matrix(y_test, y_pred))\n",
    "print(\"-----------------------------------------------------------------------\")\n",
    "print('\\033[1m'+\"Train Accuracy : {:.2f}%\".format(accuracy_score(y_train,y_pred_train)*100))\n",
    "print(\"Test Accuracy  : {:.2f}%\".format(accuracy_score(y_test,y_pred)*100))\n",
    "print(\"-----------------------------------------------------------------------\")"
   ]
  },
  {
   "cell_type": "code",
   "execution_count": 41,
   "id": "e150972e",
   "metadata": {},
   "outputs": [
    {
     "data": {
      "text/plain": [
       "0.7386"
      ]
     },
     "execution_count": 41,
     "metadata": {},
     "output_type": "execute_result"
    }
   ],
   "source": [
    "y_valid_pred = mb.predict(X_valid)\n",
    "sum(y_valid == y_valid_pred)/len(y_valid)"
   ]
  },
  {
   "cell_type": "code",
   "execution_count": 49,
   "id": "1f5689cc",
   "metadata": {},
   "outputs": [
    {
     "data": {
      "text/plain": [
       "array([1, 0])"
      ]
     },
     "execution_count": 49,
     "metadata": {},
     "output_type": "execute_result"
    }
   ],
   "source": [
    "text1 = [\"It's a wonderful day\"]\n",
    "text2 = [\"It is a bad day\"]\n",
    "text1 = preprocess(text1)\n",
    "text2 = preprocess(text2)\n",
    "text = [text1,text2]\n",
    "text_vec = cv.transform(text).toarray()\n",
    "mb.predict(text_vec)\n",
    "\n",
    "# 1 : positive\n",
    "# 0 : negative"
   ]
  },
  {
   "cell_type": "code",
   "execution_count": 50,
   "id": "28044dcd",
   "metadata": {},
   "outputs": [
    {
     "data": {
      "text/plain": [
       "['model.pkl']"
      ]
     },
     "execution_count": 50,
     "metadata": {},
     "output_type": "execute_result"
    }
   ],
   "source": [
    "joblib.dump(mb, 'model.pkl')"
   ]
  },
  {
   "cell_type": "code",
   "execution_count": 51,
   "id": "f58040b4",
   "metadata": {},
   "outputs": [],
   "source": [
    "pickle.dump(cv, open(\"vector.pickel\", \"wb\"))"
   ]
  },
  {
   "cell_type": "code",
   "execution_count": null,
   "id": "b7ebfcbe",
   "metadata": {},
   "outputs": [],
   "source": []
  }
 ],
 "metadata": {
  "kernelspec": {
   "display_name": "Python 3",
   "language": "python",
   "name": "python3"
  },
  "language_info": {
   "codemirror_mode": {
    "name": "ipython",
    "version": 3
   },
   "file_extension": ".py",
   "mimetype": "text/x-python",
   "name": "python",
   "nbconvert_exporter": "python",
   "pygments_lexer": "ipython3",
   "version": "3.8.8"
  }
 },
 "nbformat": 4,
 "nbformat_minor": 5
}
